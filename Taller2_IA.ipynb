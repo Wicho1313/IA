{
  "nbformat": 4,
  "nbformat_minor": 0,
  "metadata": {
    "colab": {
      "name": "Taller2_IA.ipynb",
      "provenance": [],
      "collapsed_sections": []
    },
    "kernelspec": {
      "name": "python3",
      "display_name": "Python 3"
    }
  },
  "cells": [
    {
      "cell_type": "markdown",
      "metadata": {
        "id": "eFXF5iKkxvzI",
        "colab_type": "text"
      },
      "source": [
        "#Taller 2 python IA\n",
        "###Punto numero 1\n"
      ]
    },
    {
      "cell_type": "code",
      "metadata": {
        "id": "izHvbTHhxOXX",
        "colab_type": "code",
        "outputId": "9489e515-32b2-4da5-eacb-5f8620c4ff05",
        "colab": {
          "base_uri": "https://localhost:8080/",
          "height": 51
        }
      },
      "source": [
        "#Ejercicio\n",
        "# Pasar a escala de grises el color codificado en los elementos de la lista `pixel`\n",
        "\n",
        "pixel= [0.6,0.3,0.4] # intensidades de cada canal. \n",
        "#El elemento 0 es el R, el 1 el G y el 2 el B\n",
        "\n",
        "# la intensidad en escala de grises es el promedio de la intensidad de cada canal R, G y B\n",
        "intensidad=(pixel[0]+pixel[1]+pixel[2])/len(pixel)\n",
        "print(\"La intensidad es:\")\n",
        "print(intensidad)\n"
      ],
      "execution_count": 0,
      "outputs": [
        {
          "output_type": "stream",
          "text": [
            "La intensidad es:\n",
            "0.4333333333333333\n"
          ],
          "name": "stdout"
        }
      ]
    },
    {
      "cell_type": "code",
      "metadata": {
        "id": "mY627gdG27Rm",
        "colab_type": "code",
        "outputId": "437a37ef-7fc6-4580-97f2-2bfae5b341d6",
        "colab": {
          "base_uri": "https://localhost:8080/",
          "height": 51
        }
      },
      "source": [
        "#Ejercicio\n",
        "# Pasar a blanco y negro el valor de intensidad codificado en la variable intensidad\n",
        "\n",
        "\n",
        "# podemos considerar que un pixel se convierte en blanco si su intensidad en escala de grises es mayor a 0.5\n",
        "# y negro de lo contrario\n",
        "bw = 0 \n",
        "if intensidad >0.5:\n",
        "  bw=1\n",
        "else:\n",
        "  bw=0\n",
        "\n",
        "print(\"En blanco y negro el pixel sería: (0 -> negro, 1 -> blanco)\")\n",
        "print(bw)\n"
      ],
      "execution_count": 0,
      "outputs": [
        {
          "output_type": "stream",
          "text": [
            "En blanco y negro el pixel sería: (0 -> negro, 1 -> blanco)\n",
            "0\n"
          ],
          "name": "stdout"
        }
      ]
    },
    {
      "cell_type": "code",
      "metadata": {
        "id": "5qjIhlU-3y2F",
        "colab_type": "code",
        "outputId": "8c7c2e6c-fac8-4a25-9be4-a57322d92160",
        "colab": {
          "base_uri": "https://localhost:8080/",
          "height": 51
        }
      },
      "source": [
        "#Ejercicio: Escribir un for para buscar el máximo de la lista e imprimirlo\n",
        "lista=[34,12,25, 78, 80, 29, 51, 12, 56]\n",
        "maximo=0\n",
        "\n",
        "for i in lista:\n",
        "    if int(i) >= maximo:\n",
        "    \tmaximo = int(i)\n",
        "\n",
        "print(\"- El maximo es:\")\n",
        "print(maximo)"
      ],
      "execution_count": 0,
      "outputs": [
        {
          "output_type": "stream",
          "text": [
            "- El maximo es:\n",
            "80\n"
          ],
          "name": "stdout"
        }
      ]
    },
    {
      "cell_type": "code",
      "metadata": {
        "id": "G2XVBYl36h06",
        "colab_type": "code",
        "outputId": "79608d8b-8bb7-4966-e619-4504246e7fdd",
        "colab": {
          "base_uri": "https://localhost:8080/",
          "height": 51
        }
      },
      "source": [
        "#Ejercicio: Escribir un for para buscar el máximo de la lista e imprimir su _posición_\n",
        "#lista==[34,12,25, 78, 80, 29, 51, 12, 56]\n",
        "posicion=0\n",
        "contador=0\n",
        "for i in lista:\n",
        "  if int(i)>=maximo:\n",
        "    maximo=int(i)\n",
        "    posicion=contador\n",
        "  contador+=1\n",
        "    \n",
        "#debe imprimir 4\n",
        "print(\"- La posición del máximo es:\")\n",
        "print(posicion)"
      ],
      "execution_count": 0,
      "outputs": [
        {
          "output_type": "stream",
          "text": [
            "- La posición del máximo es:\n",
            "4\n"
          ],
          "name": "stdout"
        }
      ]
    },
    {
      "cell_type": "code",
      "metadata": {
        "id": "-FZ-6IC32ulw",
        "colab_type": "code",
        "outputId": "7d3a46b9-82d7-4bdc-e9e1-e6023ff9100b",
        "colab": {
          "base_uri": "https://localhost:8080/",
          "height": 51
        }
      },
      "source": [
        "#Ejercicio\n",
        "# Escribir una función que reciba una lista y un valor, \n",
        "#y devuelva la cantidad de veces que aparece ese valor en la lista\n",
        "\n",
        "def ocurrencias(lista,valor):\n",
        "    c=0\n",
        "    for i in lista:\n",
        "      if int(i)==valor:\n",
        "        c+=1\n",
        "\n",
        "    return c\n",
        "\n",
        "\n",
        "l=[1,4,2,3,5,1,4,2,3,6,1,7,1,3,5,1,1,5,3,2]\n",
        "v=2\n",
        "\n",
        "print(\"La cantidad de ocurrencias es:\")\n",
        "print(ocurrencias(l,v))\n",
        "#debe imprimir 3, la cantidad de veces que aparece el 2 en la lista"
      ],
      "execution_count": 0,
      "outputs": [
        {
          "output_type": "stream",
          "text": [
            "La cantidad de ocurrencias es:\n",
            "3\n"
          ],
          "name": "stdout"
        }
      ]
    },
    {
      "cell_type": "markdown",
      "metadata": {
        "id": "_jov-3XpKgyB",
        "colab_type": "text"
      },
      "source": [
        "# Punto numero 2"
      ]
    },
    {
      "cell_type": "markdown",
      "metadata": {
        "id": "NHyv6r5UK8G-",
        "colab_type": "text"
      },
      "source": [
        "### Sobre la base del árbol anteriormente definido, definir y usar una función de recorrido en pre-orden para recorrer el árbol."
      ]
    },
    {
      "cell_type": "code",
      "metadata": {
        "id": "aULzerz4BH2h",
        "colab_type": "code",
        "colab": {}
      },
      "source": [
        "class Tree:\n",
        "    def __init__(self, data, left=None, right=None):\n",
        "        self.data = data\n",
        "        self.left  = left\n",
        "        self.right = right\n",
        "\n",
        "    def __str__(self):\n",
        "        return str(self.data)"
      ],
      "execution_count": 0,
      "outputs": []
    },
    {
      "cell_type": "code",
      "metadata": {
        "id": "NXe_0SQcBH2p",
        "colab_type": "code",
        "colab": {}
      },
      "source": [
        "left = Tree(2)\n",
        "right = Tree(3)"
      ],
      "execution_count": 0,
      "outputs": []
    },
    {
      "cell_type": "code",
      "metadata": {
        "id": "Zv4ABn3tBH2u",
        "colab_type": "code",
        "colab": {}
      },
      "source": [
        "tree = Tree(1, left, right);\n",
        "\n",
        "# Otra forma de escribirlo: tree = Tree (1, Tree (2), Tree (3))"
      ],
      "execution_count": 0,
      "outputs": []
    },
    {
      "cell_type": "code",
      "metadata": {
        "id": "ELj-cQuqBH20",
        "colab_type": "code",
        "outputId": "a3e21059-7614-4246-ce51-d1957a51df57",
        "colab": {
          "base_uri": "https://localhost:8080/",
          "height": 34
        }
      },
      "source": [
        "tree"
      ],
      "execution_count": 0,
      "outputs": [
        {
          "output_type": "execute_result",
          "data": {
            "text/plain": [
              "<__main__.Tree at 0x7fe5af046278>"
            ]
          },
          "metadata": {
            "tags": []
          },
          "execution_count": 40
        }
      ]
    },
    {
      "cell_type": "code",
      "metadata": {
        "id": "1SYliHZ-BH26",
        "colab_type": "code",
        "colab": {}
      },
      "source": [
        "def total(tree):\n",
        "    if tree == None: return 0\n",
        "    return total(tree.left) + total(tree.right) + tree.data"
      ],
      "execution_count": 0,
      "outputs": []
    },
    {
      "cell_type": "code",
      "metadata": {
        "id": "2pjVgQMQBH2_",
        "colab_type": "code",
        "outputId": "7d174f14-878f-4d6e-eb55-d19e8edb0ab8",
        "colab": {
          "base_uri": "https://localhost:8080/",
          "height": 34
        }
      },
      "source": [
        "total (tree)"
      ],
      "execution_count": 0,
      "outputs": [
        {
          "output_type": "execute_result",
          "data": {
            "text/plain": [
              "6"
            ]
          },
          "metadata": {
            "tags": []
          },
          "execution_count": 42
        }
      ]
    },
    {
      "cell_type": "code",
      "metadata": {
        "id": "8wG2iGHHBH3G",
        "colab_type": "code",
        "colab": {}
      },
      "source": [
        "tree = Tree('+', Tree(1), Tree('*', Tree(2), Tree(3)))"
      ],
      "execution_count": 0,
      "outputs": []
    },
    {
      "cell_type": "code",
      "metadata": {
        "id": "LsYtYtERMi39",
        "colab_type": "code",
        "outputId": "aaecce97-5670-4fa1-ca78-e606e66e31e8",
        "colab": {
          "base_uri": "https://localhost:8080/",
          "height": 221
        }
      },
      "source": [
        "#IMPLEMENTACION DE LOS RECORRIDOS\n",
        "def preorden(arbol):\n",
        "  if arbol != None:\n",
        "    print(arbol)\n",
        "    preorden(arbol.left)\n",
        "    preorden(arbol.right)\n",
        "\n",
        "def postorden(arbol):\n",
        "  if arbol != None:      \n",
        "    postorden(arbol.left)\n",
        "    postorden(arbol.right)\n",
        "    print(arbol)\n",
        "\n",
        "def inorden(arbol):\n",
        "  if arbol != None:      \n",
        "    inorden(arbol.left)\n",
        "    print(arbol)\n",
        "    inorden(arbol.right)\n",
        "        \n",
        "\n",
        "izq=Tree(9)\n",
        "der=Tree(8)\n",
        "r=Tree(1)\n",
        "arbol=Tree(r,izq,der)\n",
        "\n",
        "print('Recorrido en pre-orden:')\n",
        "preorden(arbol)\n",
        "print('Recorrido en post-orden:')\n",
        "postorden(arbol)\n",
        "print('Recorrido en en-orden:')\n",
        "inorden(arbol)\n"
      ],
      "execution_count": 55,
      "outputs": [
        {
          "output_type": "stream",
          "text": [
            "Recorrido en pre-orden:\n",
            "1\n",
            "9\n",
            "8\n",
            "Recorrido en post-orden:\n",
            "9\n",
            "8\n",
            "1\n",
            "Recorrido en en-orden:\n",
            "9\n",
            "1\n",
            "8\n"
          ],
          "name": "stdout"
        }
      ]
    },
    {
      "cell_type": "markdown",
      "metadata": {
        "id": "JD34_C2s1RGu",
        "colab_type": "text"
      },
      "source": [
        "## Punto 3. Implementar un evaluador de expresiones aritméticas basado en el recorrido apropiado de un árbol construido según la precedencia usual de operadores .*"
      ]
    },
    {
      "cell_type": "code",
      "metadata": {
        "id": "r9bH_9n_1Tmv",
        "colab_type": "code",
        "outputId": "379e83d7-8da5-4bb4-dbe0-1ef6b6e84370",
        "colab": {
          "base_uri": "https://localhost:8080/",
          "height": 170
        }
      },
      "source": [
        "expr=input(\"ingresar expresion: \")\n",
        "op=[]\n",
        "p=[]\n",
        "for i in expr:\n",
        "  if i=='^':\n",
        "    op.append(i)\n",
        "    p.append(1)\n",
        "for i in expr:\n",
        "  if i=='*':\n",
        "    op.append(i)\n",
        "    p.append(2)\n",
        "for i in expr:\n",
        "  if i=='/':\n",
        "    op.append(i)\n",
        "    p.append(3)\n",
        "for i in expr:\n",
        "  if i=='+':\n",
        "    op.append(i)    \n",
        "    p.append(4)\n",
        "for i in expr:\n",
        "  if i=='-':\n",
        "    op.append(i)   \n",
        "    p.append(5)\n",
        "\n",
        "print('Ordenados por prioridad: ',op)\n",
        "print('La prioridad de cada elemento en op es: ',p)\n",
        "lista1=[]\n",
        "\n",
        "izq=Tree(op[1])\n",
        "der=Tree(op[2])\n",
        "raiz1=Tree(op[0],izq,der)\n",
        "lista1.append(raiz1)\n",
        "\n",
        "dere=Tree(op[4])\n",
        "izqui=Tree(op[3])\n",
        "ra=Tree(raiz1,izqui,dere)\n",
        "lista1.append(ra)\n",
        "\n",
        "for k in lista1:\n",
        "  postorden(k)"
      ],
      "execution_count": 54,
      "outputs": [
        {
          "output_type": "stream",
          "text": [
            "ingresar expresion: 3+6-9*8/7^8\n",
            "Ordenados por prioridad:  ['^', '*', '/', '+', '-']\n",
            "La prioridad de cada elemento en op es:  [1, 2, 3, 4, 5]\n",
            "*\n",
            "/\n",
            "^\n",
            "+\n",
            "-\n",
            "^\n"
          ],
          "name": "stdout"
        }
      ]
    },
    {
      "cell_type": "markdown",
      "metadata": {
        "id": "Ko5fvvw0TUjP",
        "colab_type": "text"
      },
      "source": [
        "#Punto 4. Recorrido por niveles"
      ]
    },
    {
      "cell_type": "code",
      "metadata": {
        "id": "bIkKimiBRyF2",
        "colab_type": "code",
        "outputId": "f28310ba-df73-4160-ca5e-c7f28bfcf948",
        "colab": {
          "base_uri": "https://localhost:8080/",
          "height": 68
        }
      },
      "source": [
        "def nivel(lista_De_Arbol):\n",
        "  for l in lista_De_Arbol:\n",
        "    preorden(l)\n",
        "\n",
        "iz = Tree('N2')\n",
        "de = Tree('N3')\n",
        "raiz = Tree('N1', iz, de)\n",
        "\n",
        "#Se hace una lista con los nodos del arbol y luego se recorre\n",
        "lista = [raiz]\n",
        "nivel(lista)"
      ],
      "execution_count": 50,
      "outputs": [
        {
          "output_type": "stream",
          "text": [
            "N1\n",
            "N2\n",
            "N3\n"
          ],
          "name": "stdout"
        }
      ]
    }
  ]
}