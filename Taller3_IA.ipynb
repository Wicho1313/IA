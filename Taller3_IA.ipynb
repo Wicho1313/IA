{
  "nbformat": 4,
  "nbformat_minor": 0,
  "metadata": {
    "colab": {
      "name": "Taller3_IA.ipynb",
      "provenance": [],
      "collapsed_sections": []
    },
    "kernelspec": {
      "name": "python3",
      "display_name": "Python 3"
    }
  },
  "cells": [
    {
      "cell_type": "markdown",
      "metadata": {
        "id": "aL1StYcizlx2",
        "colab_type": "text"
      },
      "source": [
        "# Taller 3\n"
      ]
    },
    {
      "cell_type": "code",
      "metadata": {
        "id": "5eDUqc1SzgDw",
        "colab_type": "code",
        "colab": {
          "base_uri": "https://localhost:8080/",
          "height": 136
        },
        "outputId": "5eab5025-ef89-4f87-e8ab-86870a7ba085"
      },
      "source": [
        "#Implementación de un grafo en python\n",
        "#Punto 1 y punto 2\n",
        "#Se hace un grafo como una lista de vertices \n",
        "#se carga al grafo vertices con aristas y sus pesos \n",
        "#se coloca true si es grafo dirigido \n",
        "#Si es no dirigido se coloca false\n",
        "\n",
        "\n",
        "#Se crea una clase grafo\n",
        "import math\n",
        "\n",
        "class grafo:\n",
        "  #Constructor de la clase\n",
        "  #parámetros: self, vertices y el numero de aristas del grafo\n",
        "  \n",
        "  def init(self):\n",
        "    self.vertices=[]\n",
        "    self.matriz=[[None]*0 for i in range(0)]\n",
        "\n",
        "  #Método para agregar vertices y aristas\n",
        "  #parámetros: recibe vertice a comprobar\n",
        "\n",
        "  def esta_en_vertices(self,v):\n",
        "    if self.vertices.count(v)==0:\n",
        "      return False\n",
        "    return True\n",
        "\n",
        "  #Agrega los vertices y se redimensiona la matriz de adyacencia\n",
        "  #parámetros: v es el vertice que se desea ingresar al conjunto de vértices\n",
        "  #solo se agrega a la lista sin relacionarse con ningún otro\n",
        "  #a cada columna se le agrega una fila vacía y se agrega una columna vacía más\n",
        "\n",
        "  def agregar_vertices(self,v):\n",
        "    if self.esta_en_vertices(v):\n",
        "      return False\n",
        "    self.vertices.append(v)\n",
        "    print('Vertice: ',v)\n",
        "\n",
        "    #se redimenciona la matriz de adyacencia\n",
        "    filas=columnas=len(self.matriz)\n",
        "    matriz_aux=[[None]*(filas+1) for l in range(columnas+1)]\n",
        "    \n",
        "    #se recorre la matriz y se copia el contenido de la matriz más grande\n",
        "    for f in range(filas):\n",
        "      for c in range(columnas):\n",
        "        matriz_aux[f][c]=self.matriz[f][c]\n",
        "\n",
        "    #se asigna la matriz más grande a la original\n",
        "    self.matriz=matriz_aux\n",
        "    return True\n",
        "\n",
        "  #Ingresa el valor de una arista a la matriz de adyacencia\n",
        "  #parámetros: inicio,cola de flecha o arista, fin, vertice hacia el que apunta\n",
        "  #la flecha, valor, peso de la arista por defecto en None\n",
        "  #si es dirigida solo se crea una arista de inicio a fin\n",
        "  #si no se crea una arista del mismo valor pero en sentido contrario del fin al inicio\n",
        "\n",
        "  def agregar_arista(self,inicio,fin,valor,dirigido):\n",
        "    if not(self.esta_en_vertices(inicio)) or not(self.esta_en_vertices(fin)):\n",
        "      return False\n",
        "\n",
        "    self.matriz[self.vertices.index(inicio)][self.vertices.index(fin)]\n",
        "\n",
        "    if not dirigido:\n",
        "      self.matriz[self.vertices.index(fin)][self.vertices.index(inicio)]=valor\n",
        "    return True\n",
        "\n",
        "#Se hace instancia de la clase grafo\n",
        "g=grafo()\n",
        "#se inicializan las listas\n",
        "g.init()\n",
        "#se agregan los vertices\n",
        "g.agregar_vertices('S')\n",
        "g.agregar_vertices('A')\n",
        "g.agregar_vertices('B')\n",
        "g.agregar_vertices('C')\n",
        "g.agregar_vertices('D')\n",
        "g.agregar_vertices('T')\n",
        "#se colocan las aristas con su peso e indicando si van dirigidos\n",
        "g.agregar_arista('S','A',7,False)\n",
        "g.agregar_arista('S','C',8,False)\n",
        "g.agregar_arista('A','S',7,False)\n",
        "g.agregar_arista('A','C',3,False)\n",
        "g.agregar_arista('A','B',6,False)\n",
        "g.agregar_arista('C','S',8,False)\n",
        "g.agregar_arista('C','A',3,False)\n",
        "g.agregar_arista('C','B',4,False)\n",
        "g.agregar_arista('C','D',3,False)\n",
        "g.agregar_arista('B','A',6,True)\n",
        "g.agregar_arista('B','C',4,False)\n",
        "g.agregar_arista('B','D',2,False)\n",
        "g.agregar_arista('B','T',5,False)\n",
        "g.agregar_arista('D','C',3,False)\n",
        "g.agregar_arista('D','B',2,False)\n",
        "g.agregar_arista('D','T',2,False)\n",
        "g.agregar_arista('T','B',5,False)\n",
        "g.agregar_arista('T','D',2,False)\n"
      ],
      "execution_count": 37,
      "outputs": [
        {
          "output_type": "stream",
          "text": [
            "Vertice:  S\n",
            "Vertice:  A\n",
            "Vertice:  B\n",
            "Vertice:  C\n",
            "Vertice:  D\n",
            "Vertice:  T\n"
          ],
          "name": "stdout"
        },
        {
          "output_type": "execute_result",
          "data": {
            "text/plain": [
              "True"
            ]
          },
          "metadata": {
            "tags": []
          },
          "execution_count": 37
        }
      ]
    }
  ]
}